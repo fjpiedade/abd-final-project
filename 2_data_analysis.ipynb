{
 "cells": [
  {
   "cell_type": "code",
   "execution_count": 40,
   "metadata": {},
   "outputs": [],
   "source": [
    "import findspark, pyspark\n",
    "\n",
    "from pyspark.sql import SparkSession\n",
    "from pyspark.sql.types import *\n",
    "import pyspark.sql.functions as F"
   ]
  },
  {
   "cell_type": "code",
   "execution_count": 41,
   "metadata": {},
   "outputs": [],
   "source": [
    "import os\n",
    "\n",
    "import pandas as pd\n",
    "import numpy as np\n",
    "import matplotlib.pyplot as plt\n",
    "import seaborn as sns\n",
    "\n",
    "import warnings\n",
    "warnings.filterwarnings(\"ignore\")"
   ]
  },
  {
   "cell_type": "code",
   "execution_count": 42,
   "metadata": {},
   "outputs": [],
   "source": [
    "# Create the Spark session\n",
    "\n",
    "findspark.init()\n",
    "findspark.find()\n",
    "\n",
    "spark = SparkSession\\\n",
    "        .builder\\\n",
    "        .appName(\"ADBFinacialReportsSecDataAnalysis\")\\\n",
    "        .config(\"spark.sql.shuffle.partitions\",200)\\\n",
    "        .config(\"spark.driver.memory\", \"16G\")\\\n",
    "        .config(\"spark.sql.repl.eagereval.enabled\",True)\\\n",
    "        .getOrCreate()\n"
   ]
  },
  {
   "cell_type": "code",
   "execution_count": 43,
   "metadata": {},
   "outputs": [
    {
     "data": {
      "text/html": [
       "<style>pre { white-space: pre !important; }</style>"
      ],
      "text/plain": [
       "<IPython.core.display.HTML object>"
      ]
     },
     "metadata": {},
     "output_type": "display_data"
    }
   ],
   "source": [
    "from IPython.core.display import HTML\n",
    "display(HTML(\"<style>pre { white-space: pre !important; }</style>\"))"
   ]
  },
  {
   "cell_type": "code",
   "execution_count": 44,
   "metadata": {},
   "outputs": [],
   "source": [
    "def plotHorizBar(df, xcol, ycol, colour): \n",
    "    return sns.barplot(data=df.toPandas(), x=xcol, y=ycol, color=colour)\n",
    "def plotLine(df, xcol, ycol):\n",
    "    return sns.lineplot(data=df, x=xcol, y=ycol)\n",
    "def plotBar(df, xcol, ycol, huecol=None):\n",
    "    return sns.barplot(data=df.toPandas(), x=xcol, y=ycol, hue=huecol)"
   ]
  },
  {
   "cell_type": "code",
   "execution_count": 45,
   "metadata": {},
   "outputs": [],
   "source": [
    "data_dir = \"../Datasets/financial-reports-sec/parquet/large/\""
   ]
  },
  {
   "cell_type": "code",
   "execution_count": 46,
   "metadata": {},
   "outputs": [],
   "source": [
    "df_test = spark.read.parquet(data_dir + \"test.parquet\")\n",
    "df_train = spark.read.parquet(data_dir + \"train.parquet\")"
   ]
  },
  {
   "cell_type": "code",
   "execution_count": 47,
   "metadata": {},
   "outputs": [],
   "source": [
    "df_test = df_test.withColumn(\"report_length\", F.length(F.col(\"report\")))\n",
    "df_train = df_train.withColumn(\"report_length\", F.length(F.col(\"report\")))\n",
    "\n",
    "df_test = df_test.withColumn(\"report_word_count\", F.size(F.split(F.col('report'), ' ')))\n",
    "df_train = df_train.withColumn(\"report_word_count\", F.size(F.split(F.col('report'), ' ')))"
   ]
  },
  {
   "cell_type": "code",
   "execution_count": 48,
   "metadata": {},
   "outputs": [
    {
     "name": "stdout",
     "output_type": "stream",
     "text": [
      "Test Size: 5690\n",
      "Train Size: 22007\n"
     ]
    }
   ],
   "source": [
    "print(\"Test Size: \" + str(df_test.count()))\n",
    "print(\"Train Size: \" + str(df_train.count()))\n"
   ]
  },
  {
   "cell_type": "code",
   "execution_count": 49,
   "metadata": {},
   "outputs": [
    {
     "name": "stdout",
     "output_type": "stream",
     "text": [
      "root\n",
      " |-- name: string (nullable = true)\n",
      " |-- label: integer (nullable = true)\n",
      " |-- report: string (nullable = true)\n",
      " |-- report_length: integer (nullable = true)\n",
      " |-- report_word_count: integer (nullable = false)\n",
      "\n"
     ]
    }
   ],
   "source": [
    "df_test.printSchema()"
   ]
  },
  {
   "cell_type": "code",
   "execution_count": 50,
   "metadata": {},
   "outputs": [
    {
     "name": "stdout",
     "output_type": "stream",
     "text": [
      "+-----+-----+\n",
      "|label|count|\n",
      "+-----+-----+\n",
      "|    0| 1709|\n",
      "|    1|  360|\n",
      "|    2|  267|\n",
      "|    3|  518|\n",
      "|    4|  780|\n",
      "|    5|  253|\n",
      "|    6|  439|\n",
      "|    7| 1364|\n",
      "+-----+-----+\n",
      "\n",
      "+-----+-----+\n",
      "|label|count|\n",
      "+-----+-----+\n",
      "|    0| 6448|\n",
      "|    1| 1395|\n",
      "|    2|  951|\n",
      "|    3| 2084|\n",
      "|    4| 2956|\n",
      "|    5|  996|\n",
      "|    6| 1723|\n",
      "|    7| 5454|\n",
      "+-----+-----+\n",
      "\n"
     ]
    }
   ],
   "source": [
    "df_plot_test = df_test.groupBy(\"label\").count().orderBy(F.col(\"label\").asc())\n",
    "df_plot_train = df_train.groupBy(\"label\").count().orderBy(F.col(\"label\").asc())\n",
    "\n",
    "df_plot_test.show()\n",
    "df_plot_train.show()"
   ]
  },
  {
   "cell_type": "code",
   "execution_count": 51,
   "metadata": {},
   "outputs": [
    {
     "data": {
      "text/plain": [
       "<Axes: xlabel='label', ylabel='count'>"
      ]
     },
     "execution_count": 51,
     "metadata": {},
     "output_type": "execute_result"
    },
    {
     "data": {
      "image/png": "[encoded data removed]",
      "text/plain": [
       "<Figure size 640x480 with 1 Axes>"
      ]
     },
     "metadata": {},
     "output_type": "display_data"
    }
   ],
   "source": [
    "plotBar(df_plot_test, \"label\", \"count\")\n",
    "plotBar(df_plot_train, \"label\", \"count\")"
   ]
  },
  {
   "cell_type": "code",
   "execution_count": 52,
   "metadata": {},
   "outputs": [
    {
     "name": "stdout",
     "output_type": "stream",
     "text": [
      "+--------------------+-----+\n",
      "|                name|count|\n",
      "+--------------------+-----+\n",
      "|         ABIOMED INC|    9|\n",
      "|HELIX ENERGY SOLU...|    8|\n",
      "|SUPERIOR GROUP OF...|    8|\n",
      "| TTEC Holdings, Inc.|    8|\n",
      "|SECURITY NATIONAL...|    8|\n",
      "|PROGRESSIVE CORP/OH/|    8|\n",
      "|STANDARD MOTOR PR...|    7|\n",
      "|              HP INC|    7|\n",
      "|   ENTERGY CORP /DE/|    7|\n",
      "|         ALICO, INC.|    7|\n",
      "|          NIKE, Inc.|    6|\n",
      "|      FORMFACTOR INC|    6|\n",
      "|         BELDEN INC.|    6|\n",
      "|     BCB BANCORP INC|    6|\n",
      "|        TELEFLEX INC|    6|\n",
      "|         Yellow Corp|    6|\n",
      "| EMERSON ELECTRIC CO|    6|\n",
      "|     VISTA GOLD CORP|    6|\n",
      "|BASSETT FURNITURE...|    6|\n",
      "|QUAINT OAK BANCOR...|    6|\n",
      "+--------------------+-----+\n",
      "only showing top 20 rows\n",
      "\n",
      "+--------------------+-----+\n",
      "|                name|count|\n",
      "+--------------------+-----+\n",
      "|     E.W. SCRIPPS Co|   19|\n",
      "|   EVERSOURCE ENERGY|   18|\n",
      "|          INTEL CORP|   18|\n",
      "|VISHAY INTERTECHN...|   18|\n",
      "|LINCOLN NATIONAL ...|   18|\n",
      "|   OLYMPIC STEEL INC|   17|\n",
      "|          CABOT CORP|   16|\n",
      "|         TARGET CORP|   16|\n",
      "|HUNT J B TRANSPOR...|   16|\n",
      "|          CIENA CORP|   16|\n",
      "|      SMITH A O CORP|   16|\n",
      "|         EQUIFAX INC|   15|\n",
      "|   IRON MOUNTAIN INC|   15|\n",
      "|Touchpoint Group ...|   15|\n",
      "|COMMERCE BANCSHAR...|   15|\n",
      "|INTERNATIONAL FLA...|   15|\n",
      "|       TERADYNE, INC|   15|\n",
      "| CISCO SYSTEMS, INC.|   15|\n",
      "|      Woodward, Inc.|   15|\n",
      "|      TRUSTMARK CORP|   15|\n",
      "+--------------------+-----+\n",
      "only showing top 20 rows\n",
      "\n"
     ]
    }
   ],
   "source": [
    "df_plot_test = df_test.groupBy(\"name\").count().orderBy(F.col(\"count\").desc())\n",
    "df_plot_train = df_train.groupBy(\"name\").count().orderBy(F.col(\"count\").desc())\n",
    "\n",
    "df_plot_test.show()\n",
    "df_plot_train.show()"
   ]
  },
  {
   "cell_type": "code",
   "execution_count": 53,
   "metadata": {},
   "outputs": [
    {
     "data": {
      "text/plain": [
       "<Axes: xlabel='name', ylabel='count'>"
      ]
     },
     "execution_count": 53,
     "metadata": {},
     "output_type": "execute_result"
    },
    {
     "data": {
      "image/png": "[encoded data removed]",
      "text/plain": [
       "<Figure size 640x480 with 1 Axes>"
      ]
     },
     "metadata": {},
     "output_type": "display_data"
    }
   ],
   "source": [
    "plotBar(df_plot_test, \"name\", \"count\")\n",
    "plotBar(df_plot_train, \"name\", \"count\")"
   ]
  },
  {
   "cell_type": "code",
   "execution_count": 54,
   "metadata": {},
   "outputs": [
    {
     "name": "stderr",
     "output_type": "stream",
     "text": [
      "                                                                                \r"
     ]
    },
    {
     "name": "stdout",
     "output_type": "stream",
     "text": [
      "+-----+-------------+\n",
      "|label|report_length|\n",
      "+-----+-------------+\n",
      "|    7|       273493|\n",
      "|    7|       471488|\n",
      "|    7|       248502|\n",
      "|    7|        91262|\n",
      "|    7|       230988|\n",
      "|    7|       288274|\n",
      "|    7|       300776|\n",
      "|    7|        98861|\n",
      "|    7|       419812|\n",
      "|    7|       436629|\n",
      "|    7|       273531|\n",
      "|    7|       258531|\n",
      "|    7|       293147|\n",
      "|    7|       164723|\n",
      "|    7|       207300|\n",
      "|    7|       156501|\n",
      "|    7|       241596|\n",
      "|    7|       324191|\n",
      "|    7|       193790|\n",
      "|    7|       211552|\n",
      "+-----+-------------+\n",
      "only showing top 20 rows\n",
      "\n"
     ]
    },
    {
     "name": "stderr",
     "output_type": "stream",
     "text": [
      "[Stage 133:======================================>                (16 + 7) / 23]\r"
     ]
    },
    {
     "name": "stdout",
     "output_type": "stream",
     "text": [
      "+-----+-------------+\n",
      "|label|report_length|\n",
      "+-----+-------------+\n",
      "|    7|       256830|\n",
      "|    7|       313590|\n",
      "|    7|       354826|\n",
      "|    7|       279897|\n",
      "|    7|       157735|\n",
      "|    7|         3605|\n",
      "|    7|       283835|\n",
      "|    7|       588831|\n",
      "|    7|       105409|\n",
      "|    7|       262922|\n",
      "|    7|       284266|\n",
      "|    7|       296381|\n",
      "|    7|       213045|\n",
      "|    7|       232836|\n",
      "|    7|       430253|\n",
      "|    7|       132800|\n",
      "|    7|       320942|\n",
      "|    7|       169929|\n",
      "|    7|       156310|\n",
      "|    7|       325304|\n",
      "+-----+-------------+\n",
      "only showing top 20 rows\n",
      "\n"
     ]
    },
    {
     "name": "stderr",
     "output_type": "stream",
     "text": [
      "                                                                                \r"
     ]
    }
   ],
   "source": [
    "df_plot_test = df_test.select([\"label\", \"report_length\"]).orderBy(F.col(\"label\").desc())\n",
    "df_plot_train = df_train.select([\"label\", \"report_length\"]).orderBy(F.col(\"label\").desc())\n",
    "\n",
    "df_plot_test.show()\n",
    "df_plot_train.show()"
   ]
  },
  {
   "cell_type": "code",
   "execution_count": 55,
   "metadata": {},
   "outputs": [
    {
     "name": "stderr",
     "output_type": "stream",
     "text": [
      "                                                                                \r"
     ]
    },
    {
     "data": {
      "text/plain": [
       "<Axes: xlabel='label', ylabel='report_length'>"
      ]
     },
     "execution_count": 55,
     "metadata": {},
     "output_type": "execute_result"
    },
    {
     "data": {
      "image/png": "[encoded data removed]",
      "text/plain": [
       "<Figure size 640x480 with 1 Axes>"
      ]
     },
     "metadata": {},
     "output_type": "display_data"
    }
   ],
   "source": [
    "plotBar(df_plot_test, \"label\", \"report_length\")\n",
    "plotBar(df_plot_train, \"label\", \"report_length\")"
   ]
  },
  {
   "cell_type": "code",
   "execution_count": 56,
   "metadata": {},
   "outputs": [
    {
     "name": "stderr",
     "output_type": "stream",
     "text": [
      "                                                                                \r"
     ]
    },
    {
     "name": "stdout",
     "output_type": "stream",
     "text": [
      "+-----+-----------------+\n",
      "|label|report_word_count|\n",
      "+-----+-----------------+\n",
      "|    7|            34590|\n",
      "|    7|            71105|\n",
      "|    7|             9134|\n",
      "|    7|            14204|\n",
      "|    7|            35063|\n",
      "|    7|            44380|\n",
      "|    7|            27001|\n",
      "|    7|            15286|\n",
      "|    7|            39358|\n",
      "|    7|            65123|\n",
      "|    7|            25966|\n",
      "|    7|            38444|\n",
      "|    7|            44860|\n",
      "|    7|            25210|\n",
      "|    7|            24340|\n",
      "|    7|            24677|\n",
      "|    7|            42462|\n",
      "|    7|            48454|\n",
      "|    7|            66419|\n",
      "|    7|            32635|\n",
      "+-----+-----------------+\n",
      "only showing top 20 rows\n",
      "\n"
     ]
    },
    {
     "name": "stderr",
     "output_type": "stream",
     "text": [
      "[Stage 143:=================================>                     (14 + 9) / 23]\r"
     ]
    },
    {
     "name": "stdout",
     "output_type": "stream",
     "text": [
      "+-----+-----------------+\n",
      "|label|report_word_count|\n",
      "+-----+-----------------+\n",
      "|    7|            26543|\n",
      "|    7|            48515|\n",
      "|    7|            52940|\n",
      "|    7|            40145|\n",
      "|    7|            37197|\n",
      "|    7|            63369|\n",
      "|    7|            42552|\n",
      "|    7|            39063|\n",
      "|    7|            14121|\n",
      "|    7|            72221|\n",
      "|    7|            41964|\n",
      "|    7|            24216|\n",
      "|    7|            47027|\n",
      "|    7|            36187|\n",
      "|    7|            64603|\n",
      "|    7|            33258|\n",
      "|    7|            47254|\n",
      "|    7|            43461|\n",
      "|    7|            23724|\n",
      "|    7|            40243|\n",
      "+-----+-----------------+\n",
      "only showing top 20 rows\n",
      "\n"
     ]
    },
    {
     "name": "stderr",
     "output_type": "stream",
     "text": [
      "                                                                                \r"
     ]
    }
   ],
   "source": [
    "df_plot_test = df_test.select([\"label\", \"report_word_count\"]).orderBy(F.col(\"label\").desc())\n",
    "df_plot_train = df_train.select([\"label\", \"report_word_count\"]).orderBy(F.col(\"label\").desc())\n",
    "\n",
    "df_plot_test.show()\n",
    "df_plot_train.show()"
   ]
  },
  {
   "cell_type": "code",
   "execution_count": 57,
   "metadata": {},
   "outputs": [
    {
     "name": "stderr",
     "output_type": "stream",
     "text": [
      "                                                                                \r"
     ]
    },
    {
     "data": {
      "text/plain": [
       "<Axes: xlabel='label', ylabel='report_word_count'>"
      ]
     },
     "execution_count": 57,
     "metadata": {},
     "output_type": "execute_result"
    },
    {
     "data": {
      "image/png": "[encoded data removed]",
      "text/plain": [
       "<Figure size 640x480 with 1 Axes>"
      ]
     },
     "metadata": {},
     "output_type": "display_data"
    }
   ],
   "source": [
    "plotBar(df_plot_test, \"label\", \"report_word_count\")\n",
    "plotBar(df_plot_train, \"label\", \"report_word_count\")"
   ]
  }
 ],
 "metadata": {
  "kernelspec": {
   "display_name": "pyspark_env",
   "language": "python",
   "name": "python3"
  },
  "language_info": {
   "codemirror_mode": {
    "name": "ipython",
    "version": 3
   },
   "file_extension": ".py",
   "mimetype": "text/x-python",
   "name": "python",
   "nbconvert_exporter": "python",
   "pygments_lexer": "ipython3",
   "version": "3.12.1"
  }
 },
 "nbformat": 4,
 "nbformat_minor": 2
}
