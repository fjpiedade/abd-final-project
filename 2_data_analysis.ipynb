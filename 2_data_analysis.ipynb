{
 "cells": [
  {
   "cell_type": "code",
   "execution_count": 36,
   "metadata": {},
   "outputs": [],
   "source": [
    "import findspark, pyspark\n",
    "\n",
    "from pyspark.sql import SparkSession\n",
    "from pyspark.sql.types import *\n",
    "import pyspark.sql.functions as F"
   ]
  },
  {
   "cell_type": "code",
   "execution_count": 37,
   "metadata": {},
   "outputs": [],
   "source": [
    "import os\n",
    "\n",
    "import pandas as pd\n",
    "import numpy as np\n",
    "import matplotlib.pyplot as plt\n",
    "import seaborn as sns\n",
    "\n",
    "import warnings\n",
    "warnings.filterwarnings(\"ignore\")"
   ]
  },
  {
   "cell_type": "code",
   "execution_count": 38,
   "metadata": {},
   "outputs": [],
   "source": [
    "# Create the Spark session\n",
    "\n",
    "findspark.init()\n",
    "findspark.find()\n",
    "\n",
    "spark = SparkSession\\\n",
    "        .builder\\\n",
    "        .appName(\"ADBFinacialReportsSecDataAnalysis\")\\\n",
    "        .config(\"spark.sql.shuffle.partitions\",200)\\\n",
    "        .config(\"spark.driver.memory\", \"16G\")\\\n",
    "        .config(\"spark.sql.repl.eagereval.enabled\",True)\\\n",
    "        .getOrCreate()\n"
   ]
  },
  {
   "cell_type": "code",
   "execution_count": 39,
   "metadata": {},
   "outputs": [
    {
     "data": {
      "text/html": [
       "<style>pre { white-space: pre !important; }</style>"
      ],
      "text/plain": [
       "<IPython.core.display.HTML object>"
      ]
     },
     "metadata": {},
     "output_type": "display_data"
    }
   ],
   "source": [
    "from IPython.core.display import HTML\n",
    "display(HTML(\"<style>pre { white-space: pre !important; }</style>\"))"
   ]
  },
  {
   "cell_type": "code",
   "execution_count": 40,
   "metadata": {},
   "outputs": [],
   "source": [
    "data_dir = \"../Datasets/financial-reports-sec/parquet/large/\""
   ]
  },
  {
   "cell_type": "code",
   "execution_count": 41,
   "metadata": {},
   "outputs": [],
   "source": [
    "df_test = spark.read.parquet(data_dir + \"test.parquet\")\n",
    "df_train = spark.read.parquet(data_dir + \"train.parquet\")"
   ]
  },
  {
   "cell_type": "code",
   "execution_count": 42,
   "metadata": {},
   "outputs": [],
   "source": [
    "df_test = df_test.withColumn(\"report_length\", F.length(F.col(\"report\")))\n",
    "df_train = df_train.withColumn(\"report_length\", F.length(F.col(\"report\")))\n",
    "\n",
    "df_test = df_test.withColumn(\"report_word_count\", F.size(F.split(F.col('report'), ' ')))\n",
    "df_train = df_train.withColumn(\"report_word_count\", F.size(F.split(F.col('report'), ' ')))"
   ]
  },
  {
   "cell_type": "code",
   "execution_count": 43,
   "metadata": {},
   "outputs": [
    {
     "name": "stdout",
     "output_type": "stream",
     "text": [
      "Test Size: 5690\n",
      "Train Size: 22007\n"
     ]
    }
   ],
   "source": [
    "print(\"Test Size: \" + str(df_test.count()))\n",
    "print(\"Train Size: \" + str(df_train.count()))\n"
   ]
  },
  {
   "cell_type": "code",
   "execution_count": 44,
   "metadata": {},
   "outputs": [
    {
     "name": "stdout",
     "output_type": "stream",
     "text": [
      "root\n",
      " |-- name: string (nullable = true)\n",
      " |-- label: integer (nullable = true)\n",
      " |-- report: string (nullable = true)\n",
      " |-- report_length: integer (nullable = true)\n",
      " |-- report_word_count: integer (nullable = false)\n",
      "\n"
     ]
    }
   ],
   "source": [
    "df_test.printSchema()"
   ]
  },
  {
   "cell_type": "code",
   "execution_count": 45,
   "metadata": {},
   "outputs": [
    {
     "name": "stdout",
     "output_type": "stream",
     "text": [
      "+-----+-----+\n",
      "|label|count|\n",
      "+-----+-----+\n",
      "|    0| 1709|\n",
      "|    1|  360|\n",
      "|    2|  267|\n",
      "|    3|  518|\n",
      "|    4|  780|\n",
      "|    5|  253|\n",
      "|    6|  439|\n",
      "|    7| 1364|\n",
      "+-----+-----+\n",
      "\n",
      "+-----+-----+\n",
      "|label|count|\n",
      "+-----+-----+\n",
      "|    0| 6448|\n",
      "|    1| 1395|\n",
      "|    2|  951|\n",
      "|    3| 2084|\n",
      "|    4| 2956|\n",
      "|    5|  996|\n",
      "|    6| 1723|\n",
      "|    7| 5454|\n",
      "+-----+-----+\n",
      "\n"
     ]
    }
   ],
   "source": [
    "df_test.groupBy(\"label\").count().orderBy(F.col(\"label\").asc()).show()\n",
    "df_train.groupBy(\"label\").count().orderBy(F.col(\"label\").asc()).show()"
   ]
  },
  {
   "cell_type": "code",
   "execution_count": 46,
   "metadata": {},
   "outputs": [
    {
     "name": "stdout",
     "output_type": "stream",
     "text": [
      "+--------------------+-----+\n",
      "|                name|count|\n",
      "+--------------------+-----+\n",
      "|         ABIOMED INC|    9|\n",
      "|HELIX ENERGY SOLU...|    8|\n",
      "|SUPERIOR GROUP OF...|    8|\n",
      "| TTEC Holdings, Inc.|    8|\n",
      "|SECURITY NATIONAL...|    8|\n",
      "|PROGRESSIVE CORP/OH/|    8|\n",
      "|STANDARD MOTOR PR...|    7|\n",
      "|              HP INC|    7|\n",
      "|   ENTERGY CORP /DE/|    7|\n",
      "|         ALICO, INC.|    7|\n",
      "|          NIKE, Inc.|    6|\n",
      "|      FORMFACTOR INC|    6|\n",
      "|         BELDEN INC.|    6|\n",
      "|     BCB BANCORP INC|    6|\n",
      "|        TELEFLEX INC|    6|\n",
      "|         Yellow Corp|    6|\n",
      "| EMERSON ELECTRIC CO|    6|\n",
      "|     VISTA GOLD CORP|    6|\n",
      "|BASSETT FURNITURE...|    6|\n",
      "|QUAINT OAK BANCOR...|    6|\n",
      "+--------------------+-----+\n",
      "only showing top 20 rows\n",
      "\n",
      "+--------------------+-----+\n",
      "|                name|count|\n",
      "+--------------------+-----+\n",
      "|     E.W. SCRIPPS Co|   19|\n",
      "|   EVERSOURCE ENERGY|   18|\n",
      "|          INTEL CORP|   18|\n",
      "|VISHAY INTERTECHN...|   18|\n",
      "|LINCOLN NATIONAL ...|   18|\n",
      "|   OLYMPIC STEEL INC|   17|\n",
      "|          CABOT CORP|   16|\n",
      "|         TARGET CORP|   16|\n",
      "|HUNT J B TRANSPOR...|   16|\n",
      "|          CIENA CORP|   16|\n",
      "|      SMITH A O CORP|   16|\n",
      "|         EQUIFAX INC|   15|\n",
      "|   IRON MOUNTAIN INC|   15|\n",
      "|Touchpoint Group ...|   15|\n",
      "|COMMERCE BANCSHAR...|   15|\n",
      "|INTERNATIONAL FLA...|   15|\n",
      "|       TERADYNE, INC|   15|\n",
      "| CISCO SYSTEMS, INC.|   15|\n",
      "|      Woodward, Inc.|   15|\n",
      "|      TRUSTMARK CORP|   15|\n",
      "+--------------------+-----+\n",
      "only showing top 20 rows\n",
      "\n"
     ]
    }
   ],
   "source": [
    "df_test.groupBy(\"name\").count().orderBy(F.col(\"count\").desc()).show()\n",
    "df_train.groupBy(\"name\").count().orderBy(F.col(\"count\").desc()).show()"
   ]
  },
  {
   "cell_type": "code",
   "execution_count": 48,
   "metadata": {},
   "outputs": [
    {
     "name": "stderr",
     "output_type": "stream",
     "text": [
      "                                                                                \r"
     ]
    },
    {
     "name": "stdout",
     "output_type": "stream",
     "text": [
      "+--------------------+-----+-------------+\n",
      "|                name|label|report_length|\n",
      "+--------------------+-----+-------------+\n",
      "|            PPL Corp|    0|      1291267|\n",
      "|    OGE ENERGY CORP.|    4|      1200404|\n",
      "|ICAHN ENTERPRISES...|    3|      1118668|\n",
      "|Santander Holding...|    0|       996139|\n",
      "|   ENTERGY CORP /DE/|    6|       992684|\n",
      "|Spectrum Brands H...|    0|       977127|\n",
      "|  FIRST BANCORP /PR/|    4|       934741|\n",
      "|Encompass Health ...|    0|       871905|\n",
      "|  FIRST BANCORP /PR/|    0|       869399|\n",
      "|Ares Management Corp|    3|       821444|\n",
      "|ASSURED GUARANTY LTD|    4|       819222|\n",
      "|       BeiGene, Ltd.|    0|       808937|\n",
      "|Nabriva Therapeut...|    0|       761072|\n",
      "|           KBR, INC.|    1|       753114|\n",
      "|OCULAR THERAPEUTI...|    1|       728845|\n",
      "| Ladder Capital Corp|    0|       717484|\n",
      "|      Zymeworks Inc.|    7|       714457|\n",
      "|     Sesen Bio, Inc.|    4|       701976|\n",
      "|           VISA INC.|    7|       688992|\n",
      "|CRISPR Therapeuti...|    0|       686282|\n",
      "+--------------------+-----+-------------+\n",
      "only showing top 20 rows\n",
      "\n"
     ]
    },
    {
     "name": "stderr",
     "output_type": "stream",
     "text": [
      "[Stage 97:===========================================>            (18 + 5) / 23]\r"
     ]
    },
    {
     "name": "stdout",
     "output_type": "stream",
     "text": [
      "+--------------------+-----+-------------+\n",
      "|                name|label|report_length|\n",
      "+--------------------+-----+-------------+\n",
      "|Spectrum Brands H...|    6|      1353829|\n",
      "|Spectrum Brands H...|    0|      1329109|\n",
      "| PILGRIMS PRIDE CORP|    3|      1205252|\n",
      "|ICAHN ENTERPRISES...|    4|      1137655|\n",
      "|         EXELON CORP|    7|      1124186|\n",
      "|LAUREATE EDUCATIO...|    3|      1113577|\n",
      "|ICAHN ENTERPRISES...|    7|      1103391|\n",
      "|ICAHN ENTERPRISES...|    0|      1089811|\n",
      "|      YUM BRANDS INC|    4|      1049034|\n",
      "|Santander Holding...|    1|      1025449|\n",
      "|GENWORTH FINANCIA...|    0|       918216|\n",
      "|GENWORTH FINANCIA...|    1|       913750|\n",
      "|ENTERGY MISSISSIP...|    7|       910612|\n",
      "|   General Motors Co|    0|       893327|\n",
      "|Cerevel Therapeut...|    0|       890453|\n",
      "|Ares Management Corp|    7|       889773|\n",
      "|  FIRST BANCORP /PR/|    4|       880972|\n",
      "|EDISON INTERNATIONAL|    4|       873150|\n",
      "|  FIRST BANCORP /PR/|    1|       870625|\n",
      "|Nabriva Therapeut...|    3|       846518|\n",
      "+--------------------+-----+-------------+\n",
      "only showing top 20 rows\n",
      "\n"
     ]
    },
    {
     "name": "stderr",
     "output_type": "stream",
     "text": [
      "                                                                                \r"
     ]
    }
   ],
   "source": [
    "df_test.select([\"name\", \"label\", \"report_length\"]).orderBy(F.col(\"report_length\").desc()).show()\n",
    "df_train.select([\"name\", \"label\", \"report_length\"]).orderBy(F.col(\"report_length\").desc()).show()"
   ]
  },
  {
   "cell_type": "code",
   "execution_count": 49,
   "metadata": {},
   "outputs": [
    {
     "name": "stderr",
     "output_type": "stream",
     "text": [
      "                                                                                \r"
     ]
    },
    {
     "name": "stdout",
     "output_type": "stream",
     "text": [
      "+--------------------+-----+-----------------+\n",
      "|                name|label|report_word_count|\n",
      "+--------------------+-----+-----------------+\n",
      "|            PPL Corp|    0|           198892|\n",
      "|    OGE ENERGY CORP.|    4|           178923|\n",
      "|ICAHN ENTERPRISES...|    3|           169582|\n",
      "|   ENTERGY CORP /DE/|    6|           154733|\n",
      "|Santander Holding...|    0|           152979|\n",
      "|Spectrum Brands H...|    0|           147769|\n",
      "|  FIRST BANCORP /PR/|    4|           141586|\n",
      "|Encompass Health ...|    0|           131726|\n",
      "|  FIRST BANCORP /PR/|    0|           130861|\n",
      "|Ares Management Corp|    3|           126643|\n",
      "|ASSURED GUARANTY LTD|    4|           124645|\n",
      "|       BeiGene, Ltd.|    0|           122163|\n",
      "|Nabriva Therapeut...|    0|           116534|\n",
      "|           KBR, INC.|    1|           115290|\n",
      "| Ladder Capital Corp|    0|           112081|\n",
      "|OCULAR THERAPEUTI...|    1|           110879|\n",
      "|      Zymeworks Inc.|    7|           107619|\n",
      "|     Sesen Bio, Inc.|    4|           107223|\n",
      "|           VISA INC.|    7|           105424|\n",
      "|AVEO PHARMACEUTIC...|    7|           104877|\n",
      "+--------------------+-----+-----------------+\n",
      "only showing top 20 rows\n",
      "\n"
     ]
    },
    {
     "name": "stderr",
     "output_type": "stream",
     "text": [
      "[Stage 99:================================================>       (20 + 3) / 23]\r"
     ]
    },
    {
     "name": "stdout",
     "output_type": "stream",
     "text": [
      "+--------------------+-----+-----------------+\n",
      "|                name|label|report_word_count|\n",
      "+--------------------+-----+-----------------+\n",
      "|Spectrum Brands H...|    6|           204200|\n",
      "|Spectrum Brands H...|    0|           201475|\n",
      "| PILGRIMS PRIDE CORP|    3|           195979|\n",
      "|ICAHN ENTERPRISES...|    4|           172959|\n",
      "|LAUREATE EDUCATIO...|    3|           170723|\n",
      "|         EXELON CORP|    7|           169022|\n",
      "|ICAHN ENTERPRISES...|    7|           166764|\n",
      "|ICAHN ENTERPRISES...|    0|           164617|\n",
      "|      YUM BRANDS INC|    4|           161784|\n",
      "|Santander Holding...|    1|           157264|\n",
      "|GENWORTH FINANCIA...|    0|           138369|\n",
      "|ENTERGY MISSISSIP...|    7|           138264|\n",
      "|   General Motors Co|    0|           137807|\n",
      "|Ares Management Corp|    7|           137365|\n",
      "|GENWORTH FINANCIA...|    1|           136737|\n",
      "|Cerevel Therapeut...|    0|           134816|\n",
      "|EDISON INTERNATIONAL|    4|           134688|\n",
      "|  FIRST BANCORP /PR/|    4|           132941|\n",
      "|    OGE ENERGY CORP.|    0|           132366|\n",
      "|  FIRST BANCORP /PR/|    1|           132231|\n",
      "+--------------------+-----+-----------------+\n",
      "only showing top 20 rows\n",
      "\n"
     ]
    },
    {
     "name": "stderr",
     "output_type": "stream",
     "text": [
      "                                                                                \r"
     ]
    }
   ],
   "source": [
    "df_test.select([\"name\", \"label\", \"report_word_count\"]).orderBy(F.col(\"report_word_count\").desc()).show()\n",
    "df_train.select([\"name\", \"label\", \"report_word_count\"]).orderBy(F.col(\"report_word_count\").desc()).show()"
   ]
  }
 ],
 "metadata": {
  "kernelspec": {
   "display_name": "pyspark_env",
   "language": "python",
   "name": "python3"
  },
  "language_info": {
   "codemirror_mode": {
    "name": "ipython",
    "version": 3
   },
   "file_extension": ".py",
   "mimetype": "text/x-python",
   "name": "python",
   "nbconvert_exporter": "python",
   "pygments_lexer": "ipython3",
   "version": "3.12.1"
  }
 },
 "nbformat": 4,
 "nbformat_minor": 2
}
